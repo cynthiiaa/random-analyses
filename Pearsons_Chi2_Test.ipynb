{
  "nbformat": 4,
  "nbformat_minor": 0,
  "metadata": {
    "colab": {
      "provenance": [],
      "authorship_tag": "ABX9TyNYdvEyIhvIO70SzlziVPVM"
    },
    "kernelspec": {
      "name": "python3",
      "display_name": "Python 3"
    },
    "language_info": {
      "name": "python"
    }
  },
  "cells": [
    {
      "cell_type": "markdown",
      "source": [
        "# Pearson's $\\chi^2$ Test\n",
        "\n",
        "Last time we tried to answer the question **\"Is Tommy rolling too many sixes?\"**.\n",
        "\n",
        "Now, time to ask a different question. What if we're not worried about just the number of sixes, but want to ask *\"Is the distribution of rolls we get consistent with a fair die?\"*\n",
        "\n",
        "The Pearson's $\\chi^2$ test for rolling a die gives\n",
        "\n",
        "$$ \\chi^2 = \\sum_{i=1}^{6} \\frac{(C_i - E_i)^2}{E_i} $$\n",
        "\n",
        "But what does this $\\chi^2$ value mean? We can convert it to a probability given the $\\chi^2$ distribution, with 5 degrees of freedom (six sides - 1)"
      ],
      "metadata": {
        "id": "F3DQyQBV-6a8"
      }
    },
    {
      "cell_type": "code",
      "execution_count": 1,
      "metadata": {
        "colab": {
          "base_uri": "https://localhost:8080/",
          "height": 265
        },
        "id": "15Y4ivdQ-wMO",
        "outputId": "80c1f131-b803-40c4-bdb8-b4ab3a54d02a"
      },
      "outputs": [
        {
          "output_type": "display_data",
          "data": {
            "text/plain": [
              "<Figure size 432x288 with 1 Axes>"
            ],
            "image/png": "[encoded data removed]"
          },
          "metadata": {
            "needs_background": "light"
          }
        }
      ],
      "source": [
        "import numpy as np\n",
        "import matplotlib.pyplot as plt\n",
        "\n",
        "data = np.loadtxt(\"loaded_500.txt\")\n",
        "unique, counts = np.unique(data, return_counts=True)\n",
        "plt.hist(data);"
      ]
    },
    {
      "cell_type": "code",
      "source": [
        "expected = data.size / 6\n",
        "chi2_val = np.sum((counts - expected)**2 / expected)\n",
        "print(chi2_val)"
      ],
      "metadata": {
        "colab": {
          "base_uri": "https://localhost:8080/"
        },
        "id": "tekUxVtFAIYu",
        "outputId": "b48ce03c-1d3c-482f-faba-7182ac7121b2"
      },
      "execution_count": 2,
      "outputs": [
        {
          "output_type": "stream",
          "name": "stdout",
          "text": [
            "6.112\n"
          ]
        }
      ]
    },
    {
      "cell_type": "code",
      "source": [
        "from scipy.stats import chi2\n",
        "chi2s = np.linspace(0,15,500)\n",
        "prob = chi2.pdf(chi2s, 5)\n",
        "\n",
        "plt.plot(chi2s, prob, label=\"Distribution\")\n",
        "plt.axvline(chi2_val, label=\"$\\chi2$\", ls=\"--\", color=\"orange\")\n",
        "plt.fill_between(chi2s, prob, 0, where=(chi2s >= chi2_val), alpha=0.2)\n",
        "plt.legend()\n",
        "\n",
        "print(f\"Our p-value is {chi2.sf(chi2_val, 5):.3f}\")"
      ],
      "metadata": {
        "colab": {
          "base_uri": "https://localhost:8080/",
          "height": 285
        },
        "id": "mmhGG9hrAcIw",
        "outputId": "67b86224-e083-4f4d-82b9-a7f67d749e90"
      },
      "execution_count": 3,
      "outputs": [
        {
          "output_type": "stream",
          "name": "stdout",
          "text": [
            "Our p-value is 0.295\n"
          ]
        },
        {
          "output_type": "display_data",
          "data": {
            "text/plain": [
              "<Figure size 432x288 with 1 Axes>"
            ],
            "image/png": "[encoded data removed]"
          },
          "metadata": {
            "needs_background": "light"
          }
        }
      ]
    },
    {
      "cell_type": "code",
      "source": [
        "from scipy.stats import chisquare\n",
        "\n",
        "chisq, p = chisquare(counts, expected)\n",
        "print(f\"We have a chi2 of {chisq:.2f} with a p-value of {p:.3f}\")"
      ],
      "metadata": {
        "colab": {
          "base_uri": "https://localhost:8080/"
        },
        "id": "3a1c5Vk3Bh5b",
        "outputId": "a155800a-bae5-478d-c923-4ab25eded0b5"
      },
      "execution_count": 4,
      "outputs": [
        {
          "output_type": "stream",
          "name": "stdout",
          "text": [
            "We have a chi2 of 6.11 with a p-value of 0.295\n"
          ]
        }
      ]
    },
    {
      "cell_type": "code",
      "source": [
        "# Chi2 test only applies to discrete distributions"
      ],
      "metadata": {
        "id": "Zn6s5KYRCgGO"
      },
      "execution_count": 5,
      "outputs": []
    }
  ]
}