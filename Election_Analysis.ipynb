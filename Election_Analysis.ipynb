{
  "nbformat": 4,
  "nbformat_minor": 0,
  "metadata": {
    "colab": {
      "provenance": [],
      "authorship_tag": "ABX9TyO9UN4wcXGnAYs0vGK5B37r"
    },
    "kernelspec": {
      "name": "python3",
      "display_name": "Python 3"
    },
    "language_info": {
      "name": "python"
    }
  },
  "cells": [
    {
      "cell_type": "markdown",
      "source": [
        "# Election Scenario\n",
        "\n",
        "* Candidate A won the state by an average of 4% points, however they lost District 29 to candidate B by 22%, making it a significant outlier. \n",
        "* The final results for the distrct are 39% Candidate A, 61% Candidate B. \n",
        "* You are tasked to investigate this to determine if it is worth a thorough follow-up.\n",
        "* You call a a hundred members of the general public who reported as voting. 48 out of the 100 reported voting for Candidate A. \n",
        "* What do you report?"
      ],
      "metadata": {
        "id": "W2WbG_j8MmYr"
      }
    },
    {
      "cell_type": "code",
      "execution_count": 1,
      "metadata": {
        "id": "d8dvmDGyMRbX"
      },
      "outputs": [],
      "source": [
        "import numpy as np\n",
        "import matplotlib.pyplot as plt\n",
        "from scipy.stats import norm"
      ]
    },
    {
      "cell_type": "markdown",
      "source": [
        "\n",
        "*What is the chance that Candidate A got more votes than was officially reported?*\n",
        "\n",
        "\n",
        "*   Null Hypothesis: 39% of votes went to Candidate A while 61% of votes went towards Candidate B.\n",
        "*   Alternative Hypothesis: More than 39% of votes went to Candidate A and less than 61% of votes went towards Candidate B.\n",
        "\n"
      ],
      "metadata": {
        "id": "sKzv90iAM7UH"
      }
    },
    {
      "cell_type": "code",
      "source": [
        "# proportion testing is when you approximate the binomial distribution as a normal distrbution\n",
        "# and run tests on the approximated normal distribution rather than the binomial distribution itself\n",
        "# hence why we need a large enough sample size\n",
        "\n",
        "sigma = np.sqrt(0.39 * 0.61 / 100)\n",
        "reported = 0.39\n",
        "sample = 0.48\n",
        "\n",
        "xs = np.linspace(0, 1, 500) # list of sample x values\n",
        "\n",
        "# ps are the probabilities of each x value in xs\n",
        "# we're using the normal distributions pdf to approximate the y values from the sample of x values\n",
        "ps = norm.pdf(xs, sample, sigma) \n",
        "plt.plot(xs, ps, label=\"Underlying sample probability\")\n",
        "plt.axvline(reported, ls=\"--\", color=\"orange\", label=\"Reported Proportion\")\n",
        "plt.fill_between(xs, ps, 0, alpha=0.2, where= xs >= reported, label=\"prob\")\n",
        "plt.legend();\n",
        "\n",
        "# the true value of ppl who actually voted for Candidate A can be described by the blue pdf"
      ],
      "metadata": {
        "colab": {
          "base_uri": "https://localhost:8080/",
          "height": 265
        },
        "id": "tlotIl8CM10e",
        "outputId": "9aca43f3-1d55-4e25-d129-c1d8bf4ebb38"
      },
      "execution_count": 2,
      "outputs": [
        {
          "output_type": "display_data",
          "data": {
            "text/plain": [
              "<Figure size 432x288 with 1 Axes>"
            ],
            "image/png": "[encoded data removed]"
          },
          "metadata": {
            "needs_background": "light"
          }
        }
      ]
    },
    {
      "cell_type": "code",
      "source": [
        "# using survival function to calculate the probability that more people voted for Candidate A\n",
        "prob_more = norm.sf(reported, sample, sigma)\n",
        "print(f\"There is a {prob_more * 100:.1f} % chance that Candidate A would've received more votes\")"
      ],
      "metadata": {
        "colab": {
          "base_uri": "https://localhost:8080/"
        },
        "id": "-0SruJZINnre",
        "outputId": "731d81bd-36e4-4580-e725-d57afc0741e5"
      },
      "execution_count": 3,
      "outputs": [
        {
          "output_type": "stream",
          "name": "stdout",
          "text": [
            "There is a 96.7 % chance that Candidate A would've received more votes\n"
          ]
        }
      ]
    },
    {
      "cell_type": "code",
      "source": [
        "z_score = (sample - reported) / sigma\n",
        "z_score_needed_for_significance = norm.ppf(0.95)\n",
        "\n",
        "print(f\"{z_score:.3f} is larger than {z_score_needed_for_significance:.3f}, so we are significant\")\n",
        "print(f\"Have p-value {norm.sf(sample, reported, sigma):.3f}\")"
      ],
      "metadata": {
        "colab": {
          "base_uri": "https://localhost:8080/"
        },
        "id": "0jU22PDJQFQj",
        "outputId": "844a943c-e34e-4a28-c5dc-86a4d47ce4c0"
      },
      "execution_count": 4,
      "outputs": [
        {
          "output_type": "stream",
          "name": "stdout",
          "text": [
            "1.845 is larger than 1.645, so we are significant\n",
            "Have p-value 0.033\n"
          ]
        }
      ]
    },
    {
      "cell_type": "markdown",
      "source": [
        "Follow up: What if instead of asking *What is the chance that Candidate A got more votes than was officially reported?*, we instead asked *What is the chance that Candidate A got a significantly different amount of votes than reported?*\n",
        "\n",
        "This is a two-tailed test and let p = 0.05"
      ],
      "metadata": {
        "id": "jPQDAQL3U1LR"
      }
    },
    {
      "cell_type": "code",
      "source": [
        "xs = np.linspace(0,1,500)\n",
        "ps = norm.pdf(xs, reported, sigma)\n",
        "\n",
        "plt.plot(xs, ps, label=\"Proportion Uncert.\")\n",
        "plt.axvline(sample, ls=\"--\", label=\"Sample\", color=\"pink\")\n",
        "limits = norm.ppf([0.025, 0.975], reported, sigma)\n",
        "plt.fill_between(xs, ps, 0, alpha=0.2, where=( xs < limits[0])| (xs>limits[1]), label=\"Significant\")\n",
        "plt.legend(loc=2)\n",
        "plt.xlim(0.2, 0.65);"
      ],
      "metadata": {
        "colab": {
          "base_uri": "https://localhost:8080/",
          "height": 265
        },
        "id": "EovxBVMFU41x",
        "outputId": "6de63bd2-78e4-477a-ce93-2d3b8e8ddd3f"
      },
      "execution_count": 5,
      "outputs": [
        {
          "output_type": "display_data",
          "data": {
            "text/plain": [
              "<Figure size 432x288 with 1 Axes>"
            ],
            "image/png": "[encoded data removed]"
          },
          "metadata": {
            "needs_background": "light"
          }
        }
      ]
    },
    {
      "cell_type": "code",
      "source": [
        "# using z-score\n",
        "z_score = (sample - reported) / sigma\n",
        "z_score_needed_for_significance = norm.ppf(0.975)\n",
        "print(f\"{z_score:.3f} is less than {z_score_needed_for_significance:.3f}, so we aren't significant\")\n",
        "\n",
        "# using p-values\n",
        "p_value_two_tailed = 2 * norm.sf(z_score)\n",
        "print(f\"{p_value_two_tailed:.3f} is > 0.05\")"
      ],
      "metadata": {
        "colab": {
          "base_uri": "https://localhost:8080/"
        },
        "id": "yMZC1Hyk3RpO",
        "outputId": "ec1f3f87-4f7c-4118-f45d-2c19f77e8ee8"
      },
      "execution_count": 6,
      "outputs": [
        {
          "output_type": "stream",
          "name": "stdout",
          "text": [
            "1.845 is less than 1.960, so we aren't significant\n",
            "0.065 is > 0.05\n"
          ]
        }
      ]
    }
  ]
}